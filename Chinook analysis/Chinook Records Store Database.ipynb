{
 "cells": [
  {
   "source": [
    "# Chinook Records Store Database\n",
    "\n",
    "In this project, we will be using SQL to answer business questions. \n",
    "The database used is a modified version of chinook.db, which is a sample database available in several database systems. The Chinook data represents a digital media store containing information about artists, their albums, sales information on both albums & tracks as well as customers and employee data. A schema of the database and its eleven tables is provided below.\n",
    "\n",
    "![Chinook](chinook.svg)\n",
    "\n",
    "Using the chinook database, we will answer questions such as which country recorded the highest sales, what are the popular genres of music, etc. Purposely, only SQL is used for computation in this notebook as a showcase. Pandas and matplotlib are used for displaying data.\n"
   ],
   "cell_type": "markdown",
   "metadata": {}
  },
  {
   "cell_type": "code",
   "execution_count": 1,
   "metadata": {
    "collapsed": false
   },
   "outputs": [],
   "source": [
    "%%capture\n",
    "%load_ext sql\n",
    "%sql sqlite:///chinook.db"
   ]
  },
  {
   "cell_type": "code",
   "execution_count": 6,
   "metadata": {},
   "outputs": [],
   "source": [
    "import sqlite3\n",
    "import numpy as np\n",
    "import pandas as pd\n",
    "import matplotlib.pyplot as plt\n",
    "%matplotlib inline"
   ]
  },
  {
   "source": [
    "Let's first check the tables provided within our database:"
   ],
   "cell_type": "markdown",
   "metadata": {}
  },
  {
   "cell_type": "code",
   "execution_count": 7,
   "metadata": {
    "collapsed": false
   },
   "outputs": [
    {
     "output_type": "stream",
     "name": "stdout",
     "text": [
      " * sqlite:///chinook.db\nDone.\n"
     ]
    },
    {
     "output_type": "execute_result",
     "data": {
      "text/plain": [
       "[('album', 'table'),\n",
       " ('artist', 'table'),\n",
       " ('customer', 'table'),\n",
       " ('employee', 'table'),\n",
       " ('genre', 'table'),\n",
       " ('invoice', 'table'),\n",
       " ('invoice_line', 'table'),\n",
       " ('media_type', 'table'),\n",
       " ('playlist', 'table'),\n",
       " ('playlist_track', 'table'),\n",
       " ('track', 'table')]"
      ],
      "text/html": "<table>\n    <tr>\n        <th>name</th>\n        <th>type</th>\n    </tr>\n    <tr>\n        <td>album</td>\n        <td>table</td>\n    </tr>\n    <tr>\n        <td>artist</td>\n        <td>table</td>\n    </tr>\n    <tr>\n        <td>customer</td>\n        <td>table</td>\n    </tr>\n    <tr>\n        <td>employee</td>\n        <td>table</td>\n    </tr>\n    <tr>\n        <td>genre</td>\n        <td>table</td>\n    </tr>\n    <tr>\n        <td>invoice</td>\n        <td>table</td>\n    </tr>\n    <tr>\n        <td>invoice_line</td>\n        <td>table</td>\n    </tr>\n    <tr>\n        <td>media_type</td>\n        <td>table</td>\n    </tr>\n    <tr>\n        <td>playlist</td>\n        <td>table</td>\n    </tr>\n    <tr>\n        <td>playlist_track</td>\n        <td>table</td>\n    </tr>\n    <tr>\n        <td>track</td>\n        <td>table</td>\n    </tr>\n</table>"
     },
     "metadata": {},
     "execution_count": 7
    }
   ],
   "source": [
    "%%sql\n",
    "SELECT name,\n",
    "       type\n",
    "  FROM sqlite_master\n",
    " WHERE type IN (\"table\",\"view\");"
   ]
  },
  {
   "source": [
    "## Which of the 4 albums should Chinook add to the store?\n",
    "\n",
    "The Chinook record store just signed a deal with a new record label that focuses on artists in the USA. We have been tasked to select 3 of the 4 albums listed below. \n",
    "\n",
    "| Artist Name | Genre |\n",
    "| --- | --- |\n",
    "| Regal | Hip-Hop |\n",
    "| Red Tone | Punk |\n",
    "| Metero and the Girls | Pop |\n",
    "| Slim Jim Bites | Blues |\n",
    "\n",
    "\n",
    "We have the artists' names and genre of music they produce. To answer the question above, we should look at the most popular genres in the USA. To do this, we'll find the total tracks sold by each genre in the USA. We can retrieve this information from the `customer`, `invoice`, `invoice_line`, `track`, and `genre` tables by using multiple `LEFT JOIN` keywords."
   ],
   "cell_type": "markdown",
   "metadata": {}
  },
  {
   "cell_type": "code",
   "execution_count": 25,
   "metadata": {
    "collapsed": false
   },
   "outputs": [
    {
     "output_type": "stream",
     "name": "stdout",
     "text": [
      " * sqlite:///chinook.db\nDone.\n"
     ]
    },
    {
     "output_type": "execute_result",
     "data": {
      "text/plain": [
       "[('Rock', 561),\n",
       " ('Alternative & Punk', 130),\n",
       " ('Metal', 124),\n",
       " ('R&B/Soul', 53),\n",
       " ('Blues', 36),\n",
       " ('Alternative', 35),\n",
       " ('Pop', 22),\n",
       " ('Latin', 22),\n",
       " ('Hip Hop/Rap', 20),\n",
       " ('Jazz', 14)]"
      ],
      "text/html": "<table>\n    <tr>\n        <th>genre</th>\n        <th>total</th>\n    </tr>\n    <tr>\n        <td>Rock</td>\n        <td>561</td>\n    </tr>\n    <tr>\n        <td>Alternative &amp; Punk</td>\n        <td>130</td>\n    </tr>\n    <tr>\n        <td>Metal</td>\n        <td>124</td>\n    </tr>\n    <tr>\n        <td>R&amp;B/Soul</td>\n        <td>53</td>\n    </tr>\n    <tr>\n        <td>Blues</td>\n        <td>36</td>\n    </tr>\n    <tr>\n        <td>Alternative</td>\n        <td>35</td>\n    </tr>\n    <tr>\n        <td>Pop</td>\n        <td>22</td>\n    </tr>\n    <tr>\n        <td>Latin</td>\n        <td>22</td>\n    </tr>\n    <tr>\n        <td>Hip Hop/Rap</td>\n        <td>20</td>\n    </tr>\n    <tr>\n        <td>Jazz</td>\n        <td>14</td>\n    </tr>\n</table>"
     },
     "metadata": {},
     "execution_count": 25
    }
   ],
   "source": [
    "%%sql\n",
    "   SELECT g.name AS genre,\n",
    "          COUNT(*) AS total\n",
    "     FROM invoice_line AS il\n",
    "LEFT JOIN track AS t ON il.track_id = t.track_id\n",
    "LEFT JOIN genre AS g ON g.genre_id = t.genre_id\n",
    "LEFT JOIN invoice AS i ON i.invoice_id = il.invoice_id\n",
    "    WHERE i.billing_country = \"USA\" \n",
    " GROUP BY g.name\n",
    " ORDER BY total DESC\n",
    "    LIMIT 10;      "
   ]
  },
  {
   "source": [
    "Given our findings, we can update our last table with the genre rankings:\n",
    "\n",
    "| Artist Name | Genre | Genre Rank |\n",
    "| --- | --- | --- |\n",
    "| Regal | Hip-Hop | 9 |\n",
    "| Red Tone | Punk | 2 |\n",
    "| Metero and the Girls | Pop | 8 |\n",
    "| Slim Jim Bites | Blues | 5 |\n",
    "\n",
    "We should consequently advise Chinook to add **Red Tone's, Metero and the Girls', and Slim Jim Bites' albums**. However, we can see that **Rock** is by far the most sold genre in the USA, so one recommendation would be to have Chinook look into having more rock artists and albums. "
   ],
   "cell_type": "markdown",
   "metadata": {}
  },
  {
   "source": [
    "## Exploring Customer Purchases Based on Employees\n",
    "\n",
    "Whenever a customer first makes a purchase, they are assigned to a sales support representative. We were tasked to analyze employee performance based on the number of and total sales each one has. We can retrieve this information through the `employee`, `customer`, `invoice`, and `invoice_line` tables."
   ],
   "cell_type": "markdown",
   "metadata": {}
  },
  {
   "cell_type": "code",
   "execution_count": 40,
   "metadata": {
    "collapsed": false
   },
   "outputs": [
    {
     "output_type": "stream",
     "name": "stdout",
     "text": [
      " * sqlite:///chinook.db\nDone.\n"
     ]
    },
    {
     "output_type": "execute_result",
     "data": {
      "text/plain": [
       "[('Jane Peacock', 1731.51, 212, '01/04/2017'),\n",
       " ('Steve Johnson', 1393.92, 188, '17/10/2017'),\n",
       " ('Margaret Park', 1584.0, 214, '03/05/2017')]"
      ],
      "text/html": "<table>\n    <tr>\n        <th>name</th>\n        <th>total_sales</th>\n        <th>nb_sales</th>\n        <th>hiring_date</th>\n    </tr>\n    <tr>\n        <td>Jane Peacock</td>\n        <td>1731.51</td>\n        <td>212</td>\n        <td>01/04/2017</td>\n    </tr>\n    <tr>\n        <td>Steve Johnson</td>\n        <td>1393.92</td>\n        <td>188</td>\n        <td>17/10/2017</td>\n    </tr>\n    <tr>\n        <td>Margaret Park</td>\n        <td>1584.0</td>\n        <td>214</td>\n        <td>03/05/2017</td>\n    </tr>\n</table>"
     },
     "metadata": {},
     "execution_count": 40
    }
   ],
   "source": [
    "%%sql\n",
    "   SELECT e.first_name || \" \" || e.last_name AS name,\n",
    "          ROUND(SUM(i.total), 2) AS total_sales,\n",
    "          COUNT(*) AS nb_sales,\n",
    "          STRFTIME('%d/%m/%Y', e.hire_date) AS hiring_date\n",
    "     FROM invoice AS i\n",
    "LEFT JOIN customer AS c ON c.customer_id = i.customer_id\n",
    "LEFT JOIN employee AS e ON e.employee_id = c.support_rep_id\n",
    " GROUP BY name\n",
    " ORDER BY total DESC\n",
    "    LIMIT 10;"
   ]
  },
  {
   "source": [
    "We can see that all sales agents were hired in 2017. **Jane Peacock** had the most number of transactions and total sales. Not surprisingly, the earlier the hire date, the more transactions and total sales the sales agent had."
   ],
   "cell_type": "markdown",
   "metadata": {}
  },
  {
   "source": [
    "## Analyzing Customers From Different Countries\n",
    "\n",
    "Next, we can analyze the sales data for customers from each country. Specifically, we can look at the total number of customers, total value of sales, average value of sales per customer, and average order value. We can retrieve these values from the `customers` and `invoice` tables. \n",
    "\n",
    "**Important note**: \n",
    "- We are going to use the `country` value in the `customers` table rather than the `invoice` table because we are analyzing ALL customers rather than the customers who made a purchase.\n",
    "- A country that has exactly 1 customer is going to be classified as `Other` in order not to ."
   ],
   "cell_type": "markdown",
   "metadata": {}
  },
  {
   "cell_type": "code",
   "execution_count": 41,
   "metadata": {
    "collapsed": false
   },
   "outputs": [
    {
     "output_type": "stream",
     "name": "stdout",
     "text": [
      " * sqlite:///chinook.db\nDone.\n"
     ]
    },
    {
     "output_type": "execute_result",
     "data": {
      "text/plain": [
       "[('USA', 13, 1040.49, 80.04, 7.94),\n",
       " ('Canada', 8, 535.59, 66.95, 7.05),\n",
       " ('Brazil', 5, 427.68, 85.54, 7.01),\n",
       " ('France', 5, 389.07, 77.81, 7.78),\n",
       " ('Germany', 4, 334.62, 83.66, 8.16),\n",
       " ('Czech Republic', 2, 273.24, 136.62, 9.11),\n",
       " ('United Kingdom', 3, 245.52, 81.84, 8.77),\n",
       " ('Portugal', 2, 185.13, 92.57, 6.38),\n",
       " ('India', 2, 183.15, 91.58, 8.72),\n",
       " ('Other', 15, 1094.94, 73.0, 7.45)]"
      ],
      "text/html": "<table>\n    <tr>\n        <th>country</th>\n        <th>customers</th>\n        <th>total_sales</th>\n        <th>average_customer_value</th>\n        <th>average_order_value</th>\n    </tr>\n    <tr>\n        <td>USA</td>\n        <td>13</td>\n        <td>1040.49</td>\n        <td>80.04</td>\n        <td>7.94</td>\n    </tr>\n    <tr>\n        <td>Canada</td>\n        <td>8</td>\n        <td>535.59</td>\n        <td>66.95</td>\n        <td>7.05</td>\n    </tr>\n    <tr>\n        <td>Brazil</td>\n        <td>5</td>\n        <td>427.68</td>\n        <td>85.54</td>\n        <td>7.01</td>\n    </tr>\n    <tr>\n        <td>France</td>\n        <td>5</td>\n        <td>389.07</td>\n        <td>77.81</td>\n        <td>7.78</td>\n    </tr>\n    <tr>\n        <td>Germany</td>\n        <td>4</td>\n        <td>334.62</td>\n        <td>83.66</td>\n        <td>8.16</td>\n    </tr>\n    <tr>\n        <td>Czech Republic</td>\n        <td>2</td>\n        <td>273.24</td>\n        <td>136.62</td>\n        <td>9.11</td>\n    </tr>\n    <tr>\n        <td>United Kingdom</td>\n        <td>3</td>\n        <td>245.52</td>\n        <td>81.84</td>\n        <td>8.77</td>\n    </tr>\n    <tr>\n        <td>Portugal</td>\n        <td>2</td>\n        <td>185.13</td>\n        <td>92.57</td>\n        <td>6.38</td>\n    </tr>\n    <tr>\n        <td>India</td>\n        <td>2</td>\n        <td>183.15</td>\n        <td>91.58</td>\n        <td>8.72</td>\n    </tr>\n    <tr>\n        <td>Other</td>\n        <td>15</td>\n        <td>1094.94</td>\n        <td>73.0</td>\n        <td>7.45</td>\n    </tr>\n</table>"
     },
     "metadata": {},
     "execution_count": 41
    }
   ],
   "source": [
    "%%sql\n",
    "WITH country_or_other_facts AS\n",
    "     (\n",
    "     SELECT CASE\n",
    "            WHEN (\n",
    "                  SELECT count(*)\n",
    "                    FROM customer\n",
    "                   WHERE country = c.country\n",
    "                 ) = 1 THEN \"Other\"\n",
    "            ELSE c.country\n",
    "            END AS country,\n",
    "            c.customer_id,\n",
    "            i.invoice_id,\n",
    "            i.total\n",
    "       FROM invoice AS i\n",
    "            LEFT JOIN customer AS c \n",
    "            ON c.customer_id = i.customer_id\n",
    "     )\n",
    "\n",
    "SELECT country,\n",
    "       customers,\n",
    "       ROUND(total_sales,2) AS total_sales,\n",
    "       ROUND(total_sales/customers,2) AS average_customer_value,\n",
    "       ROUND(total_sales/invoices,2) AS average_order_value\n",
    "FROM (  \n",
    "        SELECT country,\n",
    "               COUNT(DISTINCT customer_id) AS customers,\n",
    "               COUNT(DISTINCT invoice_id) AS invoices,\n",
    "               SUM(total) AS total_sales,\n",
    "               CASE\n",
    "               WHEN country = \"Other\" THEN 1\n",
    "               ELSE 0\n",
    "               END AS sort\n",
    "          FROM country_or_other_facts\n",
    "      GROUP BY country\n",
    "     )\n",
    "ORDER BY sort ASC, total_sales DESC;"
   ]
  },
  {
   "source": [
    "Based on our findings above, **USA** had the most customers and total sales. We can see a **positive correlation** between number of `customers` and `total sales`. Something interesting to point out is that Czech Republic's customers had the highest average for sales per customer and order value; however there were only 2 unique customers. Portugal had the 2nd highest average sales per customer, but the lowest average order value.\n",
    "\n",
    "From this, we can recommend Chinook add the most popular genres in each country to diversify their target market or to find ways to continuously increase their sales in the USA. "
   ],
   "cell_type": "markdown",
   "metadata": {}
  },
  {
   "cell_type": "markdown",
   "metadata": {
    "collapsed": false,
    "scrolled": true
   },
   "source": [
    "## Exploring albums vs individual track purchase\n",
    "\n",
    "The Chinook store has 2 purchasing methods for the customers. They can either buy the whole album or purchase each individual track. Previously, Chinook did not allow customers to combine these types of purchases together. They are considering changing their purchasing strategy to save money by buying the most popular tracks from the albums rather than all of it.  \n",
    "\n",
    "Some 'edge cases' we have to consider are that albums with 1 or 2 tracks are likely to be sold as individual tracks and customers may decide to purchase all tracks separately from an album and add a few individual tracks. We can ignore these 2 cases because we are focused on maximizing revenue and the company claims the 2nd case does not happen often.\n",
    "\n",
    "We can answer the question above by finding the percentages of purchases (individual vs. album) and number of purchases for each. To figure out whether not the customer bought a whole album or individual tracks, we must compare two sets: the tracks from the album and the tracks purchased on one invoice.\n",
    "\n",
    "### Set comparison in SQL\n",
    "In order to compare two tables we have the following tools with SQL :\n",
    "* UNION\n",
    "* INTERSECT\n",
    "* EXCEPT  \n",
    "They only give information on the shared (or not) items in the tables though.\n",
    "\n",
    "In order to assess equality between Table A and Table B there are 3 methods:\n",
    "* 1: (A EXCEPT B IS NULL) AND (B EXCEPT A IS NULL)\n",
    "* 2: (COUNT(A INTERSECT B) = COUNT(A)) AND (COUNT(A INTERSECT B) = COUNT(B))\n",
    "* 3: A FULL JOIN B WHERE (A.Item IS NULL OR B.Item IS NULL)\n",
    "\n",
    "Let's implement the first method on our database:"
   ]
  },
  {
   "cell_type": "code",
   "execution_count": 44,
   "metadata": {
    "collapsed": false
   },
   "outputs": [
    {
     "output_type": "stream",
     "name": "stdout",
     "text": [
      " * sqlite:///chinook.db\nDone.\n"
     ]
    },
    {
     "output_type": "execute_result",
     "data": {
      "text/plain": [
       "[('no', 500, 0.81), ('yes', 114, 0.19)]"
      ],
      "text/html": "<table>\n    <tr>\n        <th>album_purchase</th>\n        <th>nb_of_invoices</th>\n        <th>percentage_of_invoices</th>\n    </tr>\n    <tr>\n        <td>no</td>\n        <td>500</td>\n        <td>0.81</td>\n    </tr>\n    <tr>\n        <td>yes</td>\n        <td>114</td>\n        <td>0.19</td>\n    </tr>\n</table>"
     },
     "metadata": {},
     "execution_count": 44
    }
   ],
   "source": [
    "%%sql\n",
    "\n",
    "WITH \n",
    "\n",
    "facts AS\n",
    "(SELECT *\n",
    "   FROM invoice_line AS il\n",
    "        LEFT JOIN track AS t\n",
    "        ON t.track_id = il.track_id\n",
    "  GROUP BY invoice_id),\n",
    "\n",
    "album_facts AS\n",
    "(SELECT invoice_id,\n",
    "        CASE\n",
    "        WHEN (SELECT track_id\n",
    "                FROM invoice_line\n",
    "               WHERE invoice_id = facts.invoice_id\n",
    "                     EXCEPT  \n",
    "              SELECT track_id\n",
    "                FROM track\n",
    "               WHERE album_id = facts.album_id) IS NULL\n",
    "             AND\n",
    "              (SELECT track_id\n",
    "                 FROM track\n",
    "                WHERE album_id = facts.album_id\n",
    "                     EXCEPT  \n",
    "              SELECT track_id\n",
    "                FROM invoice_line\n",
    "               WHERE invoice_id = facts.invoice_id) IS NULL\n",
    "        THEN \"yes\"\n",
    "        ELSE \"no\"\n",
    "        END AS album_purchase\n",
    "FROM facts)\n",
    "\n",
    "SELECT album_purchase,\n",
    "       COUNT(*) AS nb_of_invoices,\n",
    "       ROUND(CAST(COUNT(*) AS FLOAT)/(SELECT COUNT(*) FROM facts),2) \n",
    "       AS percentage_of_invoices\n",
    "  FROM album_facts\n",
    " GROUP BY album_purchase;"
   ]
  },
  {
   "source": [
    "Based on our findings above, customers buy **individual tracks** more frequently than **albums**, with each purchase type holding **81%** and **19%** of sales respectively. \n",
    "\n",
    "From this, we would recommend Chinook not to continue buying full albums from record companies, but rather buy the most popular tracks from each album. We could look at the top selling albums/tracks from each genre and advise Chinook to buy more of these specific tracks. "
   ],
   "cell_type": "markdown",
   "metadata": {}
  }
 ],
 "metadata": {
  "kernelspec": {
   "name": "python3",
   "display_name": "Python 3.8.10 64-bit ('tensorflow': conda)"
  },
  "language_info": {
   "codemirror_mode": {
    "name": "ipython",
    "version": 3
   },
   "file_extension": ".py",
   "mimetype": "text/x-python",
   "name": "python",
   "nbconvert_exporter": "python",
   "pygments_lexer": "ipython3",
   "version": "3.8.10"
  },
  "interpreter": {
   "hash": "96e5d53265b94df340949bd6ef5afdc360b59f503fc29fdfbde1773c536f468a"
  }
 },
 "nbformat": 4,
 "nbformat_minor": 2
}